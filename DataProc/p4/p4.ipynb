{
 "cells": [
  {
   "cell_type": "markdown",
   "metadata": {
    "collapsed": false
   },
   "source": [
    "# Лабораторна робота № 4\n",
    "<hr>"
   ]
  },
  {
   "cell_type": "markdown",
   "metadata": {
    "heading_collapsed": true
   },
   "source": [
    "## 1. Виконання лінійної регресії однієї змінної"
   ]
  },
  {
   "cell_type": "markdown",
   "metadata": {
    "hidden": true
   },
   "source": [
    "### 1.1 Відображення на графіку вхідних даних "
   ]
  },
  {
   "cell_type": "code",
   "execution_count": 25,
   "metadata": {
    "collapsed": false,
    "hidden": true,
    "hide_input": true,
    "slideshow": {
     "slide_type": "-"
    }
   },
   "outputs": [
    {
     "data": {
      "image/png": "[encoded data removed]",
      "text/plain": [
       "<matplotlib.figure.Figure at 0x2571189fcc0>"
      ]
     },
     "metadata": {},
     "output_type": "display_data"
    }
   ],
   "source": [
    "import pandas as pd\n",
    "import matplotlib\n",
    "import numpy as np\n",
    "import matplotlib.pyplot as plt\n",
    "from sklearn import linear_model\n",
    "%matplotlib inline\n",
    "\n",
    "data = pd.read_csv('lab4data1.txt', header=None)\n",
    "data.columns = ['Population', 'Profit']\n",
    "\n",
    "x = data['Population']\n",
    "y = data['Profit']\n",
    "plt.xlabel('Population', fontsize=18);\n",
    "plt.ylabel('Profit', fontsize=16);\n",
    "plt.plot(x, y, 'rx');"
   ]
  },
  {
   "cell_type": "markdown",
   "metadata": {
    "hidden": true,
    "hide_input": true
   },
   "source": [
    "### 1.2 Побудова моделі лінійної регресії однієї змінної"
   ]
  },
  {
   "cell_type": "code",
   "execution_count": 26,
   "metadata": {
    "collapsed": false,
    "hidden": true,
    "hide_input": true
   },
   "outputs": [
    {
     "data": {
      "image/png": "[encoded data removed]",
      "text/plain": [
       "<matplotlib.figure.Figure at 0x257118a2ba8>"
      ]
     },
     "metadata": {},
     "output_type": "display_data"
    }
   ],
   "source": [
    "data_X_train = np.transpose(np.array([data['Population']]))\n",
    "data_y_train = np.transpose(np.array([data['Profit']]))\n",
    "\n",
    "# Create linear regression object\n",
    "regr = linear_model.LinearRegression()\n",
    "\n",
    "# Train the model using the training sets\n",
    "regr.fit(data_X_train, data_y_train)\n",
    "\n",
    "plt.scatter(data_X_train, data_y_train,  color='black');\n",
    "plt.plot(data_X_train, regr.predict(data_X_train), color='blue',\n",
    "         linewidth=3);\n",
    "\n",
    "plt.xticks(())\n",
    "plt.yticks(())\n",
    "\n",
    "a, b = 3.5, 7\n",
    "\n",
    "df2 = pd.DataFrame(np.array([[a*10000,regr.predict(a)*10000],[b*10000,regr.predict(b)*10000]]))\n",
    "df2.columns = ['Population','Profit']\n",
    "\n",
    "# regr.score(data_X_train,data_y_train)"
   ]
  },
  {
   "cell_type": "markdown",
   "metadata": {
    "heading_collapsed": true,
    "hidden": true
   },
   "source": [
    "### 1.3 Прогнозування ціни для населення розміром 35,000 і 70,000:"
   ]
  },
  {
   "cell_type": "code",
   "execution_count": 27,
   "metadata": {
    "collapsed": false,
    "hidden": true
   },
   "outputs": [
    {
     "data": {
      "text/html": [
       "<div>\n",
       "<table border=\"1\" class=\"dataframe\">\n",
       "  <thead>\n",
       "    <tr style=\"text-align: right;\">\n",
       "      <th></th>\n",
       "      <th>Population</th>\n",
       "      <th>Profit</th>\n",
       "    </tr>\n",
       "  </thead>\n",
       "  <tbody>\n",
       "    <tr>\n",
       "      <th>0</th>\n",
       "      <td>35000</td>\n",
       "      <td>2798.368764</td>\n",
       "    </tr>\n",
       "    <tr>\n",
       "      <th>1</th>\n",
       "      <td>70000</td>\n",
       "      <td>44554.546310</td>\n",
       "    </tr>\n",
       "  </tbody>\n",
       "</table>\n",
       "</div>"
      ],
      "text/plain": [
       "   Population        Profit\n",
       "0       35000   2798.368764\n",
       "1       70000  44554.546310"
      ]
     },
     "execution_count": 27,
     "metadata": {},
     "output_type": "execute_result"
    }
   ],
   "source": [
    "df2"
   ]
  },
  {
   "cell_type": "markdown",
   "metadata": {
    "heading_collapsed": true
   },
   "source": [
    "## 2. Виконання лінійної регресії багатьох змінних"
   ]
  },
  {
   "cell_type": "markdown",
   "metadata": {
    "heading_collapsed": true,
    "hidden": true
   },
   "source": [
    "### 2.1 Побудова моделі регресії багатьох змінних"
   ]
  },
  {
   "cell_type": "code",
   "execution_count": 28,
   "metadata": {
    "collapsed": false,
    "hidden": true
   },
   "outputs": [
    {
     "name": "stdout",
     "output_type": "stream",
     "text": [
      "Ціна за квартиру з параметрами [1650, 3]: 293081.4643348962\n",
      "Точність моделі:  0.732945018029\n"
     ]
    }
   ],
   "source": [
    "data = pd.read_csv('lab4data2.txt', header=None)\n",
    "data.columns = ['Area', 'Rooms', 'Price']\n",
    "\n",
    "# Normalize data\n",
    "def normalize(data):\n",
    "    return (data - data.mean()) / (data.max() - data.min())\n",
    "\n",
    "def restore_pre_normalized(value, data):\n",
    "    return float(value) * (float(data.max()) - float(data.min())) + float(data.mean())\n",
    "    \n",
    "data_X = data.drop('Price', axis=1)\n",
    "data_y = data.drop(['Area','Rooms'], axis=1)\n",
    "data_y_norm = normalize(data_y)\n",
    "\n",
    "regr = linear_model.LinearRegression()\n",
    "regr.fit(data_X, data_y_norm)\n",
    "\n",
    "prediction_test = np.array([1650,3]).reshape(1,-1)\n",
    "prediction = regr.predict(prediction_test)\n",
    "\n",
    "# Restore pre-normalized price\n",
    "res = restore_pre_normalized(float(prediction), data_y)\n",
    "print(\"Ціна за квартиру з параметрами [{}, {}]: {}\".format(prediction_test[0][0], prediction_test[0][1],res))\n",
    "\n",
    "print(\"Точність моделі: \", regr.score(data_X, data_y_norm))\n"
   ]
  }
 ],
 "metadata": {
  "celltoolbar": "Raw Cell Format",
  "hide_input": true,
  "kernelspec": {
   "display_name": "Python 3",
   "language": "python",
   "name": "python3"
  },
  "language_info": {
   "codemirror_mode": {
    "name": "ipython",
    "version": 3
   },
   "file_extension": ".py",
   "mimetype": "text/x-python",
   "name": "python",
   "nbconvert_exporter": "python",
   "pygments_lexer": "ipython3",
   "version": "3.5.2"
  }
 },
 "nbformat": 4,
 "nbformat_minor": 0
}
